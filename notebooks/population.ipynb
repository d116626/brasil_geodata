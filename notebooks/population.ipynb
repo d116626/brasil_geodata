{
 "cells": [
  {
   "cell_type": "code",
   "execution_count": 72,
   "metadata": {},
   "outputs": [],
   "source": [
    "siglas = {\n",
    "    'Rondônia':'RO',\n",
    "    'Acre':'AC',\n",
    "    'Amazonas':'AM',\n",
    "    'Roraima':'RR',\n",
    "    'Pará':'PA',\n",
    "    'Amapá':'AP',\n",
    "    'Tocantins':'TO',\n",
    "    'Maranhão':'MA',\n",
    "    'Piauí':'PI',\n",
    "    'Ceará':\"CE\",\n",
    "    'Rio Grande do Norte':'RN',\n",
    "    'Paraíba':'PB',\n",
    "    'Pernambuco':'PE',\n",
    "    'Alagoas':'AL',\n",
    "    'Sergipe':'SE',\n",
    "    'Bahia':'BA',\n",
    "    'Minas Gerais':'MG',\n",
    "    'Espírito Santo':'ES',\n",
    "    'Rio de Janeiro':'RJ',\n",
    "    'São Paulo':'SP',\n",
    "    'Paraná':'PR',\n",
    "    'Santa Catarina':'SC',\n",
    "    'Rio Grande do Sul':'RS',\n",
    "    'Mato Grosso do Sul':'MS',\n",
    "    'Mato Grosso':'MT',\n",
    "    'Goiás':'GO',\n",
    "    'Distrito Federal':'DF'\n",
    "}\n",
    "\n",
    "ibge['sigla_uf'] = ibge['nome_uf'].replace(siglas)"
   ]
  },
  {
   "cell_type": "code",
   "execution_count": 75,
   "metadata": {},
   "outputs": [],
   "source": [
    "# ibge.to_csv('../maps/br_municipios_ibge.csv', index=False, encoding='utf-8')"
   ]
  },
  {
   "cell_type": "code",
   "execution_count": null,
   "metadata": {},
   "outputs": [],
   "source": []
  },
  {
   "cell_type": "code",
   "execution_count": 42,
   "metadata": {},
   "outputs": [],
   "source": [
    "def normalize(df):\n",
    "    return df.str.normalize('NFKD').str.encode('ascii', errors='ignore').str.decode('utf-8').str.lower()"
   ]
  },
  {
   "cell_type": "code",
   "execution_count": 76,
   "metadata": {},
   "outputs": [],
   "source": [
    "import pandas as pd\n",
    "import numpy as np"
   ]
  },
  {
   "cell_type": "code",
   "execution_count": 77,
   "metadata": {},
   "outputs": [],
   "source": [
    "df = pd.read_csv('../populacao/populacao_municipios_2001_to_2019.csv', encoding='utf-8')\n",
    "df = df.drop(columns=['geocodigo'])\n",
    "\n",
    "df['merge_col_1'] = normalize(df['municipio'])\n",
    "df['merge_col_2'] = normalize(df['uf'])\n"
   ]
  },
  {
   "cell_type": "code",
   "execution_count": 78,
   "metadata": {},
   "outputs": [],
   "source": [
    "ibge = pd.read_csv('../maps/br_municipios_ibge.csv', encoding='utf-8')\n",
    "ibge['merge_col_1'] = normalize(ibge['nome_municipio'])\n",
    "ibge['merge_col_2'] = normalize(ibge['sigla_uf'])"
   ]
  },
  {
   "cell_type": "code",
   "execution_count": 79,
   "metadata": {},
   "outputs": [
    {
     "data": {
      "text/html": [
       "<div>\n",
       "<style scoped>\n",
       "    .dataframe tbody tr th:only-of-type {\n",
       "        vertical-align: middle;\n",
       "    }\n",
       "\n",
       "    .dataframe tbody tr th {\n",
       "        vertical-align: top;\n",
       "    }\n",
       "\n",
       "    .dataframe thead th {\n",
       "        text-align: right;\n",
       "    }\n",
       "</style>\n",
       "<table border=\"1\" class=\"dataframe\">\n",
       "  <thead>\n",
       "    <tr style=\"text-align: right;\">\n",
       "      <th></th>\n",
       "      <th>uf</th>\n",
       "      <th>nome_uf</th>\n",
       "      <th>mesorregiao_geografica</th>\n",
       "      <th>nome_mesorregiao</th>\n",
       "      <th>microrregiao_geografica</th>\n",
       "      <th>nome_microrregiao</th>\n",
       "      <th>municipio</th>\n",
       "      <th>geocodigo</th>\n",
       "      <th>nome_municipio</th>\n",
       "      <th>latitude</th>\n",
       "      <th>longitude</th>\n",
       "      <th>nome_municip_ibge</th>\n",
       "      <th>sigla_uf</th>\n",
       "      <th>merge_col_1</th>\n",
       "      <th>merge_col_2</th>\n",
       "    </tr>\n",
       "  </thead>\n",
       "  <tbody>\n",
       "    <tr>\n",
       "      <th>0</th>\n",
       "      <td>11.0</td>\n",
       "      <td>Rondônia</td>\n",
       "      <td>2.0</td>\n",
       "      <td>Leste Rondoniense</td>\n",
       "      <td>6.0</td>\n",
       "      <td>Cacoal</td>\n",
       "      <td>15.0</td>\n",
       "      <td>1100015</td>\n",
       "      <td>Alta Floresta D'Oeste</td>\n",
       "      <td>-11.929</td>\n",
       "      <td>-61.996</td>\n",
       "      <td>ALTA FLORESTA D'OESTE</td>\n",
       "      <td>RO</td>\n",
       "      <td>alta floresta d'oeste</td>\n",
       "      <td>ro</td>\n",
       "    </tr>\n",
       "    <tr>\n",
       "      <th>1</th>\n",
       "      <td>11.0</td>\n",
       "      <td>Rondônia</td>\n",
       "      <td>2.0</td>\n",
       "      <td>Leste Rondoniense</td>\n",
       "      <td>6.0</td>\n",
       "      <td>Cacoal</td>\n",
       "      <td>379.0</td>\n",
       "      <td>1100379</td>\n",
       "      <td>Alto Alegre dos Parecis</td>\n",
       "      <td>-12.128</td>\n",
       "      <td>-61.851</td>\n",
       "      <td>ALTO ALEGRE DOS PARECIS</td>\n",
       "      <td>RO</td>\n",
       "      <td>alto alegre dos parecis</td>\n",
       "      <td>ro</td>\n",
       "    </tr>\n",
       "    <tr>\n",
       "      <th>2</th>\n",
       "      <td>11.0</td>\n",
       "      <td>Rondônia</td>\n",
       "      <td>2.0</td>\n",
       "      <td>Leste Rondoniense</td>\n",
       "      <td>3.0</td>\n",
       "      <td>Ariquemes</td>\n",
       "      <td>403.0</td>\n",
       "      <td>1100403</td>\n",
       "      <td>Alto Paraíso</td>\n",
       "      <td>-9.713</td>\n",
       "      <td>-63.321</td>\n",
       "      <td>ALTO PARAÍSO</td>\n",
       "      <td>RO</td>\n",
       "      <td>alto paraiso</td>\n",
       "      <td>ro</td>\n",
       "    </tr>\n",
       "    <tr>\n",
       "      <th>3</th>\n",
       "      <td>11.0</td>\n",
       "      <td>Rondônia</td>\n",
       "      <td>2.0</td>\n",
       "      <td>Leste Rondoniense</td>\n",
       "      <td>5.0</td>\n",
       "      <td>Alvorada D'Oeste</td>\n",
       "      <td>346.0</td>\n",
       "      <td>1100346</td>\n",
       "      <td>Alvorada D'Oeste</td>\n",
       "      <td>-11.408</td>\n",
       "      <td>-62.389</td>\n",
       "      <td>ALVORADA D'OESTE</td>\n",
       "      <td>RO</td>\n",
       "      <td>alvorada d'oeste</td>\n",
       "      <td>ro</td>\n",
       "    </tr>\n",
       "    <tr>\n",
       "      <th>4</th>\n",
       "      <td>11.0</td>\n",
       "      <td>Rondônia</td>\n",
       "      <td>2.0</td>\n",
       "      <td>Leste Rondoniense</td>\n",
       "      <td>3.0</td>\n",
       "      <td>Ariquemes</td>\n",
       "      <td>23.0</td>\n",
       "      <td>1100023</td>\n",
       "      <td>Ariquemes</td>\n",
       "      <td>-9.913</td>\n",
       "      <td>-63.041</td>\n",
       "      <td>ARIQUEMES</td>\n",
       "      <td>RO</td>\n",
       "      <td>ariquemes</td>\n",
       "      <td>ro</td>\n",
       "    </tr>\n",
       "  </tbody>\n",
       "</table>\n",
       "</div>"
      ],
      "text/plain": [
       "     uf   nome_uf  mesorregiao_geografica   nome_mesorregiao  \\\n",
       "0  11.0  Rondônia                     2.0  Leste Rondoniense   \n",
       "1  11.0  Rondônia                     2.0  Leste Rondoniense   \n",
       "2  11.0  Rondônia                     2.0  Leste Rondoniense   \n",
       "3  11.0  Rondônia                     2.0  Leste Rondoniense   \n",
       "4  11.0  Rondônia                     2.0  Leste Rondoniense   \n",
       "\n",
       "   microrregiao_geografica nome_microrregiao  municipio  geocodigo  \\\n",
       "0                      6.0            Cacoal       15.0    1100015   \n",
       "1                      6.0            Cacoal      379.0    1100379   \n",
       "2                      3.0         Ariquemes      403.0    1100403   \n",
       "3                      5.0  Alvorada D'Oeste      346.0    1100346   \n",
       "4                      3.0         Ariquemes       23.0    1100023   \n",
       "\n",
       "            nome_municipio  latitude  longitude        nome_municip_ibge  \\\n",
       "0    Alta Floresta D'Oeste   -11.929    -61.996    ALTA FLORESTA D'OESTE   \n",
       "1  Alto Alegre dos Parecis   -12.128    -61.851  ALTO ALEGRE DOS PARECIS   \n",
       "2             Alto Paraíso    -9.713    -63.321             ALTO PARAÍSO   \n",
       "3         Alvorada D'Oeste   -11.408    -62.389         ALVORADA D'OESTE   \n",
       "4                Ariquemes    -9.913    -63.041                ARIQUEMES   \n",
       "\n",
       "  sigla_uf              merge_col_1 merge_col_2  \n",
       "0       RO    alta floresta d'oeste          ro  \n",
       "1       RO  alto alegre dos parecis          ro  \n",
       "2       RO             alto paraiso          ro  \n",
       "3       RO         alvorada d'oeste          ro  \n",
       "4       RO                ariquemes          ro  "
      ]
     },
     "execution_count": 79,
     "metadata": {},
     "output_type": "execute_result"
    }
   ],
   "source": [
    "ibge.head()"
   ]
  },
  {
   "cell_type": "code",
   "execution_count": 80,
   "metadata": {},
   "outputs": [],
   "source": [
    "cols = ['geocodigo','nome_uf','merge_col_1','merge_col_2']\n",
    "ibge = ibge[cols]"
   ]
  },
  {
   "cell_type": "code",
   "execution_count": 81,
   "metadata": {},
   "outputs": [],
   "source": [
    "df_f = pd.merge(ibge,df, how ='outer', on=['merge_col_1','merge_col_2'])"
   ]
  },
  {
   "cell_type": "code",
   "execution_count": 87,
   "metadata": {},
   "outputs": [],
   "source": [
    "df_f = df_f.drop(columns=['merge_col_1','merge_col_2'])"
   ]
  },
  {
   "cell_type": "code",
   "execution_count": 88,
   "metadata": {},
   "outputs": [],
   "source": [
    "df_f.to_csv('../populacao/populacao_municipios_2001_to_2019.csv', index=False ,encoding='utf-8')"
   ]
  },
  {
   "cell_type": "code",
   "execution_count": null,
   "metadata": {},
   "outputs": [],
   "source": []
  },
  {
   "cell_type": "code",
   "execution_count": null,
   "metadata": {},
   "outputs": [],
   "source": []
  },
  {
   "cell_type": "code",
   "execution_count": null,
   "metadata": {},
   "outputs": [],
   "source": []
  },
  {
   "cell_type": "code",
   "execution_count": null,
   "metadata": {},
   "outputs": [],
   "source": []
  },
  {
   "cell_type": "code",
   "execution_count": null,
   "metadata": {},
   "outputs": [],
   "source": []
  },
  {
   "cell_type": "code",
   "execution_count": null,
   "metadata": {},
   "outputs": [],
   "source": []
  },
  {
   "cell_type": "code",
   "execution_count": null,
   "metadata": {},
   "outputs": [],
   "source": []
  },
  {
   "cell_type": "code",
   "execution_count": null,
   "metadata": {},
   "outputs": [],
   "source": []
  },
  {
   "cell_type": "code",
   "execution_count": null,
   "metadata": {},
   "outputs": [],
   "source": []
  },
  {
   "cell_type": "code",
   "execution_count": null,
   "metadata": {},
   "outputs": [],
   "source": []
  },
  {
   "cell_type": "code",
   "execution_count": null,
   "metadata": {},
   "outputs": [],
   "source": []
  },
  {
   "cell_type": "code",
   "execution_count": null,
   "metadata": {},
   "outputs": [],
   "source": []
  },
  {
   "cell_type": "code",
   "execution_count": null,
   "metadata": {},
   "outputs": [],
   "source": []
  },
  {
   "cell_type": "code",
   "execution_count": null,
   "metadata": {},
   "outputs": [],
   "source": []
  }
 ],
 "metadata": {
  "kernelspec": {
   "display_name": "Python 3",
   "language": "python",
   "name": "python3"
  },
  "language_info": {
   "codemirror_mode": {
    "name": "ipython",
    "version": 3
   },
   "file_extension": ".py",
   "mimetype": "text/x-python",
   "name": "python",
   "nbconvert_exporter": "python",
   "pygments_lexer": "ipython3",
   "version": "3.7.4"
  }
 },
 "nbformat": 4,
 "nbformat_minor": 2
}
